{
 "cells": [
  {
   "cell_type": "code",
   "execution_count": null,
   "source": [
    "import pandas as pd\r\n",
    "import numpy as np\r\n",
    "import seaborn as sns\r\n",
    "import matplotlib.pyplot as plt"
   ],
   "outputs": [],
   "metadata": {}
  },
  {
   "cell_type": "code",
   "execution_count": null,
   "source": [
    "import os, types\r\n",
    "import pandas as pd\r\n",
    "from botocore.client import Config\r\n",
    "import ibm_boto3\r\n",
    "\r\n",
    "def __iter__(self): return 0\r\n",
    "\r\n",
    "# @hidden_cell\r\n",
    "# The following code accesses a file in your IBM Cloud Object Storage. It includes your credentials.\r\n",
    "# You might want to remove those credentials before you share the notebook.\r\n",
    "\r\n",
    "if os.environ.get('RUNTIME_ENV_LOCATION_TYPE') == 'external':\r\n",
    "    endpoint_f0bc0433f93b4a518afbc629bf26a345 = 'https://s3.eu-geo.objectstorage.softlayer.net'\r\n",
    "else:\r\n",
    "    endpoint_f0bc0433f93b4a518afbc629bf26a345 = 'https://s3.eu-geo.objectstorage.service.networklayer.com'\r\n",
    "\r\n",
    "client_f0bc0433f93b4a518afbc629bf26a345 = ibm_boto3.client(service_name='s3',\r\n",
    "    ibm_api_key_id='jv0kAVVZbpvFpaJ74gfG2adjghFsb0rafZpkxkW4E99Z',\r\n",
    "    ibm_auth_endpoint=\"https://iam.cloud.ibm.com/oidc/token\",\r\n",
    "    config=Config(signature_version='oauth'),\r\n",
    "    endpoint_url=endpoint_f0bc0433f93b4a518afbc629bf26a345)\r\n",
    "\r\n",
    "body = client_f0bc0433f93b4a518afbc629bf26a345.get_object(Bucket='jcomponentfinalreview-donotdelete-pr-v8a4bumdugke5p',Key='traindata (2).csv')['Body']\r\n",
    "# add missing __iter__ method, so pandas accepts body as file-like object\r\n",
    "if not hasattr(body, \"__iter__\"): body.__iter__ = types.MethodType( __iter__, body )\r\n",
    "\r\n",
    "train_data = pd.read_csv(body)\r\n",
    "train_data.head()"
   ],
   "outputs": [],
   "metadata": {}
  },
  {
   "cell_type": "code",
   "execution_count": null,
   "source": [
    "train_data\r\n",
    "a=train_data"
   ],
   "outputs": [],
   "metadata": {}
  },
  {
   "cell_type": "code",
   "execution_count": null,
   "source": [
    "train_data.head()"
   ],
   "outputs": [],
   "metadata": {}
  },
  {
   "cell_type": "code",
   "execution_count": null,
   "source": [],
   "outputs": [],
   "metadata": {}
  },
  {
   "cell_type": "code",
   "execution_count": null,
   "source": [],
   "outputs": [],
   "metadata": {}
  },
  {
   "cell_type": "code",
   "execution_count": null,
   "source": [],
   "outputs": [],
   "metadata": {}
  },
  {
   "cell_type": "code",
   "execution_count": null,
   "source": [],
   "outputs": [],
   "metadata": {}
  },
  {
   "cell_type": "code",
   "execution_count": null,
   "source": [
    "train_data.info()"
   ],
   "outputs": [],
   "metadata": {}
  },
  {
   "cell_type": "code",
   "execution_count": null,
   "source": [
    "train_data.isnull().sum()"
   ],
   "outputs": [],
   "metadata": {}
  },
  {
   "cell_type": "code",
   "execution_count": null,
   "source": [
    "g = sns.FacetGrid(train_data)\r\n",
    "g.map(plt.hist, 'Age', bins=20)"
   ],
   "outputs": [],
   "metadata": {}
  },
  {
   "cell_type": "code",
   "execution_count": null,
   "source": [
    "train_data['Age'].mean()"
   ],
   "outputs": [],
   "metadata": {}
  },
  {
   "cell_type": "code",
   "execution_count": null,
   "source": [
    "train_data['Age'].median()"
   ],
   "outputs": [],
   "metadata": {}
  },
  {
   "cell_type": "code",
   "execution_count": null,
   "source": [
    "train_data['Age']=train_data['Age'].fillna(value=train_data['Age'].median())"
   ],
   "outputs": [],
   "metadata": {}
  },
  {
   "cell_type": "code",
   "execution_count": null,
   "source": [
    "train_data.isnull().sum()"
   ],
   "outputs": [],
   "metadata": {}
  },
  {
   "cell_type": "code",
   "execution_count": null,
   "source": [
    "train_data.head()"
   ],
   "outputs": [],
   "metadata": {}
  },
  {
   "cell_type": "code",
   "execution_count": null,
   "source": [
    "\r\n",
    "train_data.drop(['Name'],axis=1,inplace=True)\r\n",
    "train_data.head()"
   ],
   "outputs": [],
   "metadata": {}
  },
  {
   "cell_type": "code",
   "execution_count": null,
   "source": [
    "y=train_data['Major Side Effects']\r\n"
   ],
   "outputs": [],
   "metadata": {}
  },
  {
   "cell_type": "code",
   "execution_count": null,
   "source": [
    "\r\n",
    "y"
   ],
   "outputs": [],
   "metadata": {}
  },
  {
   "cell_type": "code",
   "execution_count": null,
   "source": [
    "train_data.drop(['Major Side Effects'],axis=1,inplace=True)\r\n",
    "train_data.head()"
   ],
   "outputs": [],
   "metadata": {}
  },
  {
   "cell_type": "code",
   "execution_count": null,
   "source": [
    "from sklearn.ensemble import RandomForestClassifier\r\n",
    "\r\n",
    "model=RandomForestClassifier(n_estimators=100)\r\n",
    "\r\n",
    "model.fit(train_data,y)"
   ],
   "outputs": [],
   "metadata": {}
  },
  {
   "cell_type": "code",
   "execution_count": null,
   "source": [
    "body = client_f0bc0433f93b4a518afbc629bf26a345.get_object(Bucket='jcomponentfinalreview-donotdelete-pr-v8a4bumdugke5p',Key='finalTest_data.csv')['Body']\r\n",
    "# add missing __iter__ method, so pandas accepts body as file-like object\r\n",
    "if not hasattr(body, \"__iter__\"): body.__iter__ = types.MethodType( __iter__, body )\r\n",
    "\r\n",
    "test_data = pd.read_csv(body)\r\n",
    "test_data.head()\r\n"
   ],
   "outputs": [],
   "metadata": {}
  },
  {
   "cell_type": "code",
   "execution_count": null,
   "source": [
    "\r\n",
    "g = sns.FacetGrid(test_data)\r\n",
    "g.map(plt.hist, 'age', bins=20)"
   ],
   "outputs": [],
   "metadata": {}
  },
  {
   "cell_type": "code",
   "execution_count": null,
   "source": [
    "\r\n",
    "test_data.isnull().sum()"
   ],
   "outputs": [],
   "metadata": {}
  },
  {
   "cell_type": "code",
   "execution_count": null,
   "source": [
    "\r\n",
    "test_data['age']=test_data['age'].fillna(value=test_data['age'].median())"
   ],
   "outputs": [],
   "metadata": {}
  },
  {
   "cell_type": "code",
   "execution_count": null,
   "source": [
    "\r\n",
    "test_data.drop(['Name'],axis=1,inplace=True)\r\n",
    "test_data.head()"
   ],
   "outputs": [],
   "metadata": {}
  },
  {
   "cell_type": "code",
   "execution_count": null,
   "source": [
    "#test_data['Sex'] = test_data['Sex'].map( {'female': 0, 'male': 1} ).astype(int)\r\n",
    "#test_data.head()"
   ],
   "outputs": [],
   "metadata": {}
  },
  {
   "cell_type": "code",
   "execution_count": null,
   "source": [
    "test_data.isnull().sum()"
   ],
   "outputs": [],
   "metadata": {}
  },
  {
   "cell_type": "code",
   "execution_count": null,
   "source": [],
   "outputs": [],
   "metadata": {}
  },
  {
   "cell_type": "code",
   "execution_count": null,
   "source": [
    "\r\n",
    "y_pred = model.predict(test_data)\r\n",
    "y_pred"
   ],
   "outputs": [],
   "metadata": {}
  },
  {
   "cell_type": "code",
   "execution_count": null,
   "source": [
    "Submission = pd.DataFrame({ 'Major Side Effects': y_pred })\r\n",
    "Submission.to_csv('raw_data.csv', index=False)"
   ],
   "outputs": [],
   "metadata": {}
  },
  {
   "cell_type": "code",
   "execution_count": null,
   "source": [
    "Submission"
   ],
   "outputs": [],
   "metadata": {}
  },
  {
   "cell_type": "code",
   "execution_count": null,
   "source": [
    "from sklearn.linear_model import LogisticRegression\r\n",
    "regressor = LogisticRegression()\r\n",
    "regressor.fit(train_data,y)"
   ],
   "outputs": [],
   "metadata": {}
  },
  {
   "cell_type": "code",
   "execution_count": null,
   "source": [
    "y_pred_Logistic = regressor.predict(test_data)\r\n",
    "y_pred_Logistic"
   ],
   "outputs": [],
   "metadata": {}
  },
  {
   "cell_type": "code",
   "execution_count": null,
   "source": [
    "Submission = pd.DataFrame({ 'Major Side Effects': y_pred })\r\n",
    "Submission.to_csv(\"D:\\Titanic Datatset\\Submission.csv\", index=False)"
   ],
   "outputs": [],
   "metadata": {}
  },
  {
   "cell_type": "code",
   "execution_count": null,
   "source": [
    "Submission"
   ],
   "outputs": [],
   "metadata": {}
  },
  {
   "cell_type": "code",
   "execution_count": null,
   "source": [],
   "outputs": [],
   "metadata": {}
  },
  {
   "cell_type": "code",
   "execution_count": null,
   "source": [],
   "outputs": [],
   "metadata": {}
  },
  {
   "cell_type": "code",
   "execution_count": null,
   "source": [],
   "outputs": [],
   "metadata": {}
  }
 ],
 "metadata": {
  "orig_nbformat": 4,
  "language_info": {
   "name": "plaintext"
  }
 },
 "nbformat": 4,
 "nbformat_minor": 2
}